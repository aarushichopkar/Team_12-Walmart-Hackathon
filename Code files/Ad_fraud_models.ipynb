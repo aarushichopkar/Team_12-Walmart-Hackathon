{
 "cells": [
  {
   "attachments": {},
   "cell_type": "markdown",
   "id": "307cf29b-f0bb-4fa7-942e-91ec1ec060e8",
   "metadata": {},
   "source": [
    "# **Ad Fraud Detection**"
   ]
  },
  {
   "cell_type": "code",
   "execution_count": 81,
   "id": "d8419cbd-f95d-4cc4-b429-fae96f6186b6",
   "metadata": {},
   "outputs": [],
   "source": [
    "# Importing Libraries\n",
    "import numpy as np\n",
    "import pandas as pd\n",
    "import matplotlib.pyplot as plt\n",
    "import seaborn as sns"
   ]
  },
  {
   "attachments": {},
   "cell_type": "markdown",
   "id": "5f9ba0e2-9ce4-48b4-9aab-c908f17c3cd7",
   "metadata": {},
   "source": [
    "### **Reading Datasets**"
   ]
  },
  {
   "cell_type": "code",
   "execution_count": 82,
   "id": "ab247e91-4db5-41d2-b306-000660794350",
   "metadata": {},
   "outputs": [
    {
     "name": "stdout",
     "output_type": "stream",
     "text": [
      "Shape of Data: (965, 56)\n"
     ]
    },
    {
     "data": {
      "text/html": [
       "<div>\n",
       "<style scoped>\n",
       "    .dataframe tbody tr th:only-of-type {\n",
       "        vertical-align: middle;\n",
       "    }\n",
       "\n",
       "    .dataframe tbody tr th {\n",
       "        vertical-align: top;\n",
       "    }\n",
       "\n",
       "    .dataframe thead th {\n",
       "        text-align: right;\n",
       "    }\n",
       "</style>\n",
       "<table border=\"1\" class=\"dataframe\">\n",
       "  <thead>\n",
       "    <tr style=\"text-align: right;\">\n",
       "      <th></th>\n",
       "      <th>clientid_cr</th>\n",
       "      <th>clmbuserid_cr</th>\n",
       "      <th>conversiontime_cr</th>\n",
       "      <th>imprid_cr</th>\n",
       "      <th>adslotdimid_cr</th>\n",
       "      <th>algo_cr</th>\n",
       "      <th>audiences_cr</th>\n",
       "      <th>clickbid_cr</th>\n",
       "      <th>geodimid_cr</th>\n",
       "      <th>ip_cr</th>\n",
       "      <th>...</th>\n",
       "      <th>cityGrpDimId_cr</th>\n",
       "      <th>siteClusterIds_cr</th>\n",
       "      <th>refClusterId_cr</th>\n",
       "      <th>paid_cr</th>\n",
       "      <th>spend_cr</th>\n",
       "      <th>attributionType_cr</th>\n",
       "      <th>conversionid_cr</th>\n",
       "      <th>optimize_on_cr</th>\n",
       "      <th>bundleId_cr</th>\n",
       "      <th>conversion_fraud</th>\n",
       "    </tr>\n",
       "  </thead>\n",
       "  <tbody>\n",
       "    <tr>\n",
       "      <th>0</th>\n",
       "      <td>75694</td>\n",
       "      <td>31629cd0-0b34-460f-aa61-80c3234e1225-1sjfw</td>\n",
       "      <td>1.620000e+12</td>\n",
       "      <td>01649076-c77f-4d70-afc8-213535427147-1sjd4</td>\n",
       "      <td>321300</td>\n",
       "      <td>38.0</td>\n",
       "      <td>8gw,o3b</td>\n",
       "      <td>2.869316</td>\n",
       "      <td>144</td>\n",
       "      <td>XXX.XXX.XXX.XXX</td>\n",
       "      <td>...</td>\n",
       "      <td>348007.0</td>\n",
       "      <td>NaN</td>\n",
       "      <td>NaN</td>\n",
       "      <td>NaN</td>\n",
       "      <td>NaN</td>\n",
       "      <td>NaN</td>\n",
       "      <td>NaN</td>\n",
       "      <td>NaN</td>\n",
       "      <td>NaN</td>\n",
       "      <td>True</td>\n",
       "    </tr>\n",
       "    <tr>\n",
       "      <th>1</th>\n",
       "      <td>75694</td>\n",
       "      <td>4c98f114-c34c-48f4-84d6-50fc8e9b6d65-10wgg</td>\n",
       "      <td>1.620000e+12</td>\n",
       "      <td>f84d83b9-b757-4f97-9813-34f8dcc57cc5-1sjfw</td>\n",
       "      <td>129239</td>\n",
       "      <td>38.0</td>\n",
       "      <td>8kv,2vk,8gw,2vl</td>\n",
       "      <td>2.790000</td>\n",
       "      <td>144</td>\n",
       "      <td>XXX.XXX.XXX.XXX</td>\n",
       "      <td>...</td>\n",
       "      <td>348010.0</td>\n",
       "      <td>NaN</td>\n",
       "      <td>NaN</td>\n",
       "      <td>NaN</td>\n",
       "      <td>NaN</td>\n",
       "      <td>NaN</td>\n",
       "      <td>NaN</td>\n",
       "      <td>NaN</td>\n",
       "      <td>NaN</td>\n",
       "      <td>True</td>\n",
       "    </tr>\n",
       "    <tr>\n",
       "      <th>2</th>\n",
       "      <td>75694</td>\n",
       "      <td>cd92087a-54b0-4911-bc3d-1144a3c2babd-1sjlg</td>\n",
       "      <td>1.620000e+12</td>\n",
       "      <td>061edef6-3d9d-408b-884a-ad840e6930ce-10o78</td>\n",
       "      <td>321554</td>\n",
       "      <td>21.0</td>\n",
       "      <td>8gw,o3b</td>\n",
       "      <td>2.790000</td>\n",
       "      <td>144</td>\n",
       "      <td>XXX.XXX.XXX.XXX</td>\n",
       "      <td>...</td>\n",
       "      <td>NaN</td>\n",
       "      <td>NaN</td>\n",
       "      <td>NaN</td>\n",
       "      <td>NaN</td>\n",
       "      <td>NaN</td>\n",
       "      <td>NaN</td>\n",
       "      <td>NaN</td>\n",
       "      <td>NaN</td>\n",
       "      <td>NaN</td>\n",
       "      <td>True</td>\n",
       "    </tr>\n",
       "    <tr>\n",
       "      <th>3</th>\n",
       "      <td>75694</td>\n",
       "      <td>f79f3de7-5edb-4319-9549-117f47996066-10wrk</td>\n",
       "      <td>1.620000e+12</td>\n",
       "      <td>0a937239-9091-4bb7-b26b-37d4bb29e50b-10oa0</td>\n",
       "      <td>321300</td>\n",
       "      <td>38.0</td>\n",
       "      <td>8gw,o3b</td>\n",
       "      <td>2.790000</td>\n",
       "      <td>144</td>\n",
       "      <td>XXX.XXX.XXX.XXX</td>\n",
       "      <td>...</td>\n",
       "      <td>348007.0</td>\n",
       "      <td>NaN</td>\n",
       "      <td>NaN</td>\n",
       "      <td>NaN</td>\n",
       "      <td>NaN</td>\n",
       "      <td>NaN</td>\n",
       "      <td>NaN</td>\n",
       "      <td>NaN</td>\n",
       "      <td>NaN</td>\n",
       "      <td>True</td>\n",
       "    </tr>\n",
       "    <tr>\n",
       "      <th>4</th>\n",
       "      <td>30431</td>\n",
       "      <td>01fd1a8a-c3f8-4b57-94ff-66318d0f63c7-1sjts</td>\n",
       "      <td>1.620000e+12</td>\n",
       "      <td>0d46d0d4-8fc6-4d95-aaa1-406354a8400c-1sjo8</td>\n",
       "      <td>355768</td>\n",
       "      <td>21.0</td>\n",
       "      <td>NaN</td>\n",
       "      <td>NaN</td>\n",
       "      <td>144</td>\n",
       "      <td>XXX.XXX.XXX.XXX</td>\n",
       "      <td>...</td>\n",
       "      <td>NaN</td>\n",
       "      <td>NaN</td>\n",
       "      <td>NaN</td>\n",
       "      <td>1.0</td>\n",
       "      <td>275.0</td>\n",
       "      <td>1.0</td>\n",
       "      <td>NaN</td>\n",
       "      <td>NaN</td>\n",
       "      <td>NaN</td>\n",
       "      <td>True</td>\n",
       "    </tr>\n",
       "  </tbody>\n",
       "</table>\n",
       "<p>5 rows × 56 columns</p>\n",
       "</div>"
      ],
      "text/plain": [
       "   clientid_cr                               clmbuserid_cr  conversiontime_cr  \\\n",
       "0        75694  31629cd0-0b34-460f-aa61-80c3234e1225-1sjfw       1.620000e+12   \n",
       "1        75694  4c98f114-c34c-48f4-84d6-50fc8e9b6d65-10wgg       1.620000e+12   \n",
       "2        75694  cd92087a-54b0-4911-bc3d-1144a3c2babd-1sjlg       1.620000e+12   \n",
       "3        75694  f79f3de7-5edb-4319-9549-117f47996066-10wrk       1.620000e+12   \n",
       "4        30431  01fd1a8a-c3f8-4b57-94ff-66318d0f63c7-1sjts       1.620000e+12   \n",
       "\n",
       "                                    imprid_cr  adslotdimid_cr  algo_cr  \\\n",
       "0  01649076-c77f-4d70-afc8-213535427147-1sjd4          321300     38.0   \n",
       "1  f84d83b9-b757-4f97-9813-34f8dcc57cc5-1sjfw          129239     38.0   \n",
       "2  061edef6-3d9d-408b-884a-ad840e6930ce-10o78          321554     21.0   \n",
       "3  0a937239-9091-4bb7-b26b-37d4bb29e50b-10oa0          321300     38.0   \n",
       "4  0d46d0d4-8fc6-4d95-aaa1-406354a8400c-1sjo8          355768     21.0   \n",
       "\n",
       "      audiences_cr  clickbid_cr  geodimid_cr            ip_cr  ...  \\\n",
       "0          8gw,o3b     2.869316          144  XXX.XXX.XXX.XXX  ...   \n",
       "1  8kv,2vk,8gw,2vl     2.790000          144  XXX.XXX.XXX.XXX  ...   \n",
       "2          8gw,o3b     2.790000          144  XXX.XXX.XXX.XXX  ...   \n",
       "3          8gw,o3b     2.790000          144  XXX.XXX.XXX.XXX  ...   \n",
       "4              NaN          NaN          144  XXX.XXX.XXX.XXX  ...   \n",
       "\n",
       "   cityGrpDimId_cr  siteClusterIds_cr  refClusterId_cr  paid_cr spend_cr  \\\n",
       "0         348007.0                NaN              NaN      NaN      NaN   \n",
       "1         348010.0                NaN              NaN      NaN      NaN   \n",
       "2              NaN                NaN              NaN      NaN      NaN   \n",
       "3         348007.0                NaN              NaN      NaN      NaN   \n",
       "4              NaN                NaN              NaN      1.0    275.0   \n",
       "\n",
       "   attributionType_cr  conversionid_cr  optimize_on_cr  bundleId_cr  \\\n",
       "0                 NaN              NaN             NaN          NaN   \n",
       "1                 NaN              NaN             NaN          NaN   \n",
       "2                 NaN              NaN             NaN          NaN   \n",
       "3                 NaN              NaN             NaN          NaN   \n",
       "4                 1.0              NaN             NaN          NaN   \n",
       "\n",
       "   conversion_fraud  \n",
       "0              True  \n",
       "1              True  \n",
       "2              True  \n",
       "3              True  \n",
       "4              True  \n",
       "\n",
       "[5 rows x 56 columns]"
      ]
     },
     "execution_count": 82,
     "metadata": {},
     "output_type": "execute_result"
    }
   ],
   "source": [
    "# Reading Training Data set\n",
    "Data =pd.read_csv(\"C:/Users/aarus/Downloads/archive/train.csv\")\n",
    "print('Shape of Data:',Data.shape)\n",
    "Data.head()"
   ]
  },
  {
   "cell_type": "code",
   "execution_count": 83,
   "id": "06ff8272-67d2-406b-a0b0-896ea01cc693",
   "metadata": {},
   "outputs": [
    {
     "name": "stdout",
     "output_type": "stream",
     "text": [
      "Shape of Traning Data: (455, 56)\n"
     ]
    }
   ],
   "source": [
    "# Reading Testing Data set\n",
    "Test_Data =pd.read_csv(\"C:/Users/aarus/Downloads/archive/test.csv\")\n",
    "print('Shape of Traning Data:',Test_Data.shape)"
   ]
  },
  {
   "cell_type": "code",
   "execution_count": 84,
   "id": "bddfff2b",
   "metadata": {},
   "outputs": [
    {
     "name": "stderr",
     "output_type": "stream",
     "text": [
      "C:\\Users\\aarus\\AppData\\Local\\Temp\\ipykernel_8748\\15089530.py:1: DtypeWarning: Columns (22,24,25,26,29,30,31,32,33,34,46,47,48,49,50,51,52,53,54) have mixed types. Specify dtype option on import or set low_memory=False.\n",
      "  Click_log =pd.read_csv(\"C:/Users/aarus/Downloads/archive/click_log.csv\")\n"
     ]
    }
   ],
   "source": [
    "Click_log =pd.read_csv(\"C:/Users/aarus/Downloads/archive/click_log.csv\")"
   ]
  },
  {
   "cell_type": "code",
   "execution_count": 85,
   "id": "1d6badb8-d102-49bd-bad0-7e2a2c348efd",
   "metadata": {},
   "outputs": [
    {
     "data": {
      "text/plain": [
       "Index(['clientid_cr', 'clmbuserid_cr', 'conversiontime_cr', 'imprid_cr',\n",
       "       'adslotdimid_cr', 'algo_cr', 'audiences_cr', 'clickbid_cr',\n",
       "       'geodimid_cr', 'ip_cr', 'itemcolumbiaid_cr', 'itemid_cr', 'position_cr',\n",
       "       'pubclientid_cr', 'refurl_cr', 'siteId_cr', 'templateid_cr',\n",
       "       'goalid_cr', 'time_cr', 'adLogType_cr', 'v_cr', 'allAudiences_cr',\n",
       "       'pricingtype_cr', 'osId_cr', 'browserId_cr', 'cityId_cr', 'stateId_cr',\n",
       "       'modelDimId_cr', 'lookUpFrom_cr', 'connTypeDimId_cr', 'ispDimId_cr',\n",
       "       'countryDimId_cr', 'goalTypeId_cr', 'conversionDurationInMillis_cr',\n",
       "       'impressionTimeInMillis_cr', 'clickTimeInMillis_cr', 'osVerDimId_cr',\n",
       "       'uuidSource_cr', 'geoGrpDimId_cr', 'stateGrpDimId_cr', 'deviceId_cr',\n",
       "       'uvh_cr', 'uv_cr', 'platformId_cr', 'sdkVersion_cr', 'usrClusterId_cr',\n",
       "       'cityGrpDimId_cr', 'siteClusterIds_cr', 'refClusterId_cr', 'paid_cr',\n",
       "       'spend_cr', 'attributionType_cr', 'conversionid_cr', 'optimize_on_cr',\n",
       "       'bundleId_cr', 'conversion_fraud'],\n",
       "      dtype='object')"
      ]
     },
     "execution_count": 85,
     "metadata": {},
     "output_type": "execute_result"
    }
   ],
   "source": [
    "# Check the Column Names\n",
    "Data.columns"
   ]
  },
  {
   "cell_type": "code",
   "execution_count": 86,
   "id": "4ddaa208-1769-4c45-ba15-e372b3b2b7d6",
   "metadata": {},
   "outputs": [
    {
     "data": {
      "text/plain": [
       "False    834\n",
       "True     131\n",
       "Name: conversion_fraud, dtype: int64"
      ]
     },
     "execution_count": 86,
     "metadata": {},
     "output_type": "execute_result"
    }
   ],
   "source": [
    "# Check the values of Conversion fraud\n",
    "Data['conversion_fraud'].value_counts()"
   ]
  },
  {
   "attachments": {},
   "cell_type": "markdown",
   "id": "05d5bfaf-fa4f-4140-be3d-2825982d5579",
   "metadata": {},
   "source": [
    "## **Data Cleaning**"
   ]
  },
  {
   "cell_type": "code",
   "execution_count": 87,
   "id": "a8d723a0-7c0f-44cc-8c2d-557c982eea5d",
   "metadata": {},
   "outputs": [
    {
     "data": {
      "text/plain": [
       "clientid_cr                        0\n",
       "clmbuserid_cr                      0\n",
       "conversiontime_cr                  0\n",
       "imprid_cr                          0\n",
       "adslotdimid_cr                     0\n",
       "algo_cr                           20\n",
       "audiences_cr                     199\n",
       "clickbid_cr                      296\n",
       "geodimid_cr                        0\n",
       "ip_cr                             20\n",
       "itemcolumbiaid_cr                  0\n",
       "itemid_cr                          0\n",
       "position_cr                       20\n",
       "pubclientid_cr                     0\n",
       "refurl_cr                        125\n",
       "siteId_cr                          0\n",
       "templateid_cr                    107\n",
       "goalid_cr                          0\n",
       "time_cr                            0\n",
       "adLogType_cr                       0\n",
       "v_cr                               1\n",
       "allAudiences_cr                   47\n",
       "pricingtype_cr                     0\n",
       "osId_cr                           21\n",
       "browserId_cr                      21\n",
       "cityId_cr                         20\n",
       "stateId_cr                        20\n",
       "modelDimId_cr                     21\n",
       "lookUpFrom_cr                      0\n",
       "connTypeDimId_cr                  20\n",
       "ispDimId_cr                       20\n",
       "countryDimId_cr                   20\n",
       "goalTypeId_cr                      0\n",
       "conversionDurationInMillis_cr     20\n",
       "impressionTimeInMillis_cr         20\n",
       "clickTimeInMillis_cr             132\n",
       "osVerDimId_cr                     21\n",
       "uuidSource_cr                     20\n",
       "geoGrpDimId_cr                    20\n",
       "stateGrpDimId_cr                 105\n",
       "deviceId_cr                      854\n",
       "uvh_cr                           965\n",
       "uv_cr                            936\n",
       "platformId_cr                    853\n",
       "sdkVersion_cr                    958\n",
       "usrClusterId_cr                  611\n",
       "cityGrpDimId_cr                  344\n",
       "siteClusterIds_cr                553\n",
       "refClusterId_cr                  899\n",
       "paid_cr                          771\n",
       "spend_cr                         771\n",
       "attributionType_cr               771\n",
       "conversionid_cr                  941\n",
       "optimize_on_cr                   925\n",
       "bundleId_cr                      960\n",
       "conversion_fraud                   0\n",
       "dtype: int64"
      ]
     },
     "execution_count": 87,
     "metadata": {},
     "output_type": "execute_result"
    }
   ],
   "source": [
    "# Check Missing Values in features\n",
    "Data.isnull().sum()"
   ]
  },
  {
   "cell_type": "code",
   "execution_count": 88,
   "id": "bc21cf8f-00c4-4490-8fcc-a4006e0575ce",
   "metadata": {},
   "outputs": [
    {
     "data": {
      "text/plain": [
       "515    33\n",
       "518    33\n",
       "507    33\n",
       "508    33\n",
       "509    33\n",
       "       ..\n",
       "206     9\n",
       "588     9\n",
       "422     9\n",
       "309     8\n",
       "777     7\n",
       "Length: 965, dtype: int64"
      ]
     },
     "execution_count": 88,
     "metadata": {},
     "output_type": "execute_result"
    }
   ],
   "source": [
    "# Sort rows with Maximum Missing Values\n",
    "Data.isnull().sum(axis=1).sort_values(ascending=False)"
   ]
  },
  {
   "cell_type": "code",
   "execution_count": 89,
   "id": "98f3a8f6-76ba-46ea-8c67-630d115e01de",
   "metadata": {},
   "outputs": [
    {
     "name": "stdout",
     "output_type": "stream",
     "text": [
      "(965, 56)\n"
     ]
    },
    {
     "data": {
      "text/plain": [
       "(21, 56)"
      ]
     },
     "execution_count": 89,
     "metadata": {},
     "output_type": "execute_result"
    }
   ],
   "source": [
    "# Check how many rows have missing values more than 17\n",
    "print(Data.shape)\n",
    "Data[Data.isnull().sum(axis=1)>17].shape"
   ]
  },
  {
   "cell_type": "code",
   "execution_count": 90,
   "id": "f4d10615-3eb3-4003-97a0-20b3cc145729",
   "metadata": {},
   "outputs": [
    {
     "name": "stdout",
     "output_type": "stream",
     "text": [
      "Shape after deleting rows (944, 56)\n"
     ]
    }
   ],
   "source": [
    "# Delete rows with more than 17 missing values rows\n",
    "Data=Data[Data.isnull().sum(axis=1)<=17]\n",
    "print('Shape after deleting rows',Data.shape)"
   ]
  },
  {
   "cell_type": "code",
   "execution_count": 91,
   "id": "597f9d7a-0164-4068-b7a5-a283581bf4db",
   "metadata": {},
   "outputs": [
    {
     "data": {
      "text/html": [
       "<div>\n",
       "<style scoped>\n",
       "    .dataframe tbody tr th:only-of-type {\n",
       "        vertical-align: middle;\n",
       "    }\n",
       "\n",
       "    .dataframe tbody tr th {\n",
       "        vertical-align: top;\n",
       "    }\n",
       "\n",
       "    .dataframe thead th {\n",
       "        text-align: right;\n",
       "    }\n",
       "</style>\n",
       "<table border=\"1\" class=\"dataframe\">\n",
       "  <thead>\n",
       "    <tr style=\"text-align: right;\">\n",
       "      <th></th>\n",
       "      <th>No. of Missing Values</th>\n",
       "      <th>Percentage of Missing Values</th>\n",
       "    </tr>\n",
       "  </thead>\n",
       "  <tbody>\n",
       "    <tr>\n",
       "      <th>uvh_cr</th>\n",
       "      <td>944</td>\n",
       "      <td>100.000000</td>\n",
       "    </tr>\n",
       "    <tr>\n",
       "      <th>conversionid_cr</th>\n",
       "      <td>940</td>\n",
       "      <td>99.576271</td>\n",
       "    </tr>\n",
       "    <tr>\n",
       "      <th>bundleId_cr</th>\n",
       "      <td>939</td>\n",
       "      <td>99.470339</td>\n",
       "    </tr>\n",
       "    <tr>\n",
       "      <th>sdkVersion_cr</th>\n",
       "      <td>937</td>\n",
       "      <td>99.258475</td>\n",
       "    </tr>\n",
       "    <tr>\n",
       "      <th>uv_cr</th>\n",
       "      <td>915</td>\n",
       "      <td>96.927966</td>\n",
       "    </tr>\n",
       "    <tr>\n",
       "      <th>optimize_on_cr</th>\n",
       "      <td>904</td>\n",
       "      <td>95.762712</td>\n",
       "    </tr>\n",
       "    <tr>\n",
       "      <th>refClusterId_cr</th>\n",
       "      <td>878</td>\n",
       "      <td>93.008475</td>\n",
       "    </tr>\n",
       "    <tr>\n",
       "      <th>platformId_cr</th>\n",
       "      <td>833</td>\n",
       "      <td>88.241525</td>\n",
       "    </tr>\n",
       "    <tr>\n",
       "      <th>deviceId_cr</th>\n",
       "      <td>833</td>\n",
       "      <td>88.241525</td>\n",
       "    </tr>\n",
       "    <tr>\n",
       "      <th>attributionType_cr</th>\n",
       "      <td>770</td>\n",
       "      <td>81.567797</td>\n",
       "    </tr>\n",
       "    <tr>\n",
       "      <th>spend_cr</th>\n",
       "      <td>770</td>\n",
       "      <td>81.567797</td>\n",
       "    </tr>\n",
       "    <tr>\n",
       "      <th>paid_cr</th>\n",
       "      <td>770</td>\n",
       "      <td>81.567797</td>\n",
       "    </tr>\n",
       "    <tr>\n",
       "      <th>usrClusterId_cr</th>\n",
       "      <td>591</td>\n",
       "      <td>62.605932</td>\n",
       "    </tr>\n",
       "    <tr>\n",
       "      <th>siteClusterIds_cr</th>\n",
       "      <td>533</td>\n",
       "      <td>56.461864</td>\n",
       "    </tr>\n",
       "    <tr>\n",
       "      <th>cityGrpDimId_cr</th>\n",
       "      <td>323</td>\n",
       "      <td>34.216102</td>\n",
       "    </tr>\n",
       "    <tr>\n",
       "      <th>clickbid_cr</th>\n",
       "      <td>275</td>\n",
       "      <td>29.131356</td>\n",
       "    </tr>\n",
       "    <tr>\n",
       "      <th>audiences_cr</th>\n",
       "      <td>179</td>\n",
       "      <td>18.961864</td>\n",
       "    </tr>\n",
       "    <tr>\n",
       "      <th>clickTimeInMillis_cr</th>\n",
       "      <td>111</td>\n",
       "      <td>11.758475</td>\n",
       "    </tr>\n",
       "    <tr>\n",
       "      <th>refurl_cr</th>\n",
       "      <td>105</td>\n",
       "      <td>11.122881</td>\n",
       "    </tr>\n",
       "    <tr>\n",
       "      <th>templateid_cr</th>\n",
       "      <td>87</td>\n",
       "      <td>9.216102</td>\n",
       "    </tr>\n",
       "    <tr>\n",
       "      <th>stateGrpDimId_cr</th>\n",
       "      <td>85</td>\n",
       "      <td>9.004237</td>\n",
       "    </tr>\n",
       "    <tr>\n",
       "      <th>allAudiences_cr</th>\n",
       "      <td>47</td>\n",
       "      <td>4.978814</td>\n",
       "    </tr>\n",
       "    <tr>\n",
       "      <th>v_cr</th>\n",
       "      <td>1</td>\n",
       "      <td>0.105932</td>\n",
       "    </tr>\n",
       "    <tr>\n",
       "      <th>osVerDimId_cr</th>\n",
       "      <td>0</td>\n",
       "      <td>0.000000</td>\n",
       "    </tr>\n",
       "    <tr>\n",
       "      <th>conversionDurationInMillis_cr</th>\n",
       "      <td>0</td>\n",
       "      <td>0.000000</td>\n",
       "    </tr>\n",
       "    <tr>\n",
       "      <th>impressionTimeInMillis_cr</th>\n",
       "      <td>0</td>\n",
       "      <td>0.000000</td>\n",
       "    </tr>\n",
       "    <tr>\n",
       "      <th>clientid_cr</th>\n",
       "      <td>0</td>\n",
       "      <td>0.000000</td>\n",
       "    </tr>\n",
       "    <tr>\n",
       "      <th>uuidSource_cr</th>\n",
       "      <td>0</td>\n",
       "      <td>0.000000</td>\n",
       "    </tr>\n",
       "    <tr>\n",
       "      <th>geoGrpDimId_cr</th>\n",
       "      <td>0</td>\n",
       "      <td>0.000000</td>\n",
       "    </tr>\n",
       "    <tr>\n",
       "      <th>countryDimId_cr</th>\n",
       "      <td>0</td>\n",
       "      <td>0.000000</td>\n",
       "    </tr>\n",
       "    <tr>\n",
       "      <th>goalTypeId_cr</th>\n",
       "      <td>0</td>\n",
       "      <td>0.000000</td>\n",
       "    </tr>\n",
       "    <tr>\n",
       "      <th>lookUpFrom_cr</th>\n",
       "      <td>0</td>\n",
       "      <td>0.000000</td>\n",
       "    </tr>\n",
       "    <tr>\n",
       "      <th>ispDimId_cr</th>\n",
       "      <td>0</td>\n",
       "      <td>0.000000</td>\n",
       "    </tr>\n",
       "    <tr>\n",
       "      <th>connTypeDimId_cr</th>\n",
       "      <td>0</td>\n",
       "      <td>0.000000</td>\n",
       "    </tr>\n",
       "    <tr>\n",
       "      <th>conversiontime_cr</th>\n",
       "      <td>0</td>\n",
       "      <td>0.000000</td>\n",
       "    </tr>\n",
       "    <tr>\n",
       "      <th>imprid_cr</th>\n",
       "      <td>0</td>\n",
       "      <td>0.000000</td>\n",
       "    </tr>\n",
       "    <tr>\n",
       "      <th>adslotdimid_cr</th>\n",
       "      <td>0</td>\n",
       "      <td>0.000000</td>\n",
       "    </tr>\n",
       "    <tr>\n",
       "      <th>algo_cr</th>\n",
       "      <td>0</td>\n",
       "      <td>0.000000</td>\n",
       "    </tr>\n",
       "    <tr>\n",
       "      <th>geodimid_cr</th>\n",
       "      <td>0</td>\n",
       "      <td>0.000000</td>\n",
       "    </tr>\n",
       "    <tr>\n",
       "      <th>ip_cr</th>\n",
       "      <td>0</td>\n",
       "      <td>0.000000</td>\n",
       "    </tr>\n",
       "    <tr>\n",
       "      <th>itemcolumbiaid_cr</th>\n",
       "      <td>0</td>\n",
       "      <td>0.000000</td>\n",
       "    </tr>\n",
       "    <tr>\n",
       "      <th>itemid_cr</th>\n",
       "      <td>0</td>\n",
       "      <td>0.000000</td>\n",
       "    </tr>\n",
       "    <tr>\n",
       "      <th>position_cr</th>\n",
       "      <td>0</td>\n",
       "      <td>0.000000</td>\n",
       "    </tr>\n",
       "    <tr>\n",
       "      <th>pubclientid_cr</th>\n",
       "      <td>0</td>\n",
       "      <td>0.000000</td>\n",
       "    </tr>\n",
       "    <tr>\n",
       "      <th>siteId_cr</th>\n",
       "      <td>0</td>\n",
       "      <td>0.000000</td>\n",
       "    </tr>\n",
       "    <tr>\n",
       "      <th>goalid_cr</th>\n",
       "      <td>0</td>\n",
       "      <td>0.000000</td>\n",
       "    </tr>\n",
       "    <tr>\n",
       "      <th>time_cr</th>\n",
       "      <td>0</td>\n",
       "      <td>0.000000</td>\n",
       "    </tr>\n",
       "    <tr>\n",
       "      <th>adLogType_cr</th>\n",
       "      <td>0</td>\n",
       "      <td>0.000000</td>\n",
       "    </tr>\n",
       "    <tr>\n",
       "      <th>pricingtype_cr</th>\n",
       "      <td>0</td>\n",
       "      <td>0.000000</td>\n",
       "    </tr>\n",
       "    <tr>\n",
       "      <th>osId_cr</th>\n",
       "      <td>0</td>\n",
       "      <td>0.000000</td>\n",
       "    </tr>\n",
       "    <tr>\n",
       "      <th>browserId_cr</th>\n",
       "      <td>0</td>\n",
       "      <td>0.000000</td>\n",
       "    </tr>\n",
       "    <tr>\n",
       "      <th>cityId_cr</th>\n",
       "      <td>0</td>\n",
       "      <td>0.000000</td>\n",
       "    </tr>\n",
       "    <tr>\n",
       "      <th>stateId_cr</th>\n",
       "      <td>0</td>\n",
       "      <td>0.000000</td>\n",
       "    </tr>\n",
       "    <tr>\n",
       "      <th>modelDimId_cr</th>\n",
       "      <td>0</td>\n",
       "      <td>0.000000</td>\n",
       "    </tr>\n",
       "    <tr>\n",
       "      <th>clmbuserid_cr</th>\n",
       "      <td>0</td>\n",
       "      <td>0.000000</td>\n",
       "    </tr>\n",
       "    <tr>\n",
       "      <th>conversion_fraud</th>\n",
       "      <td>0</td>\n",
       "      <td>0.000000</td>\n",
       "    </tr>\n",
       "  </tbody>\n",
       "</table>\n",
       "</div>"
      ],
      "text/plain": [
       "                               No. of Missing Values  \\\n",
       "uvh_cr                                           944   \n",
       "conversionid_cr                                  940   \n",
       "bundleId_cr                                      939   \n",
       "sdkVersion_cr                                    937   \n",
       "uv_cr                                            915   \n",
       "optimize_on_cr                                   904   \n",
       "refClusterId_cr                                  878   \n",
       "platformId_cr                                    833   \n",
       "deviceId_cr                                      833   \n",
       "attributionType_cr                               770   \n",
       "spend_cr                                         770   \n",
       "paid_cr                                          770   \n",
       "usrClusterId_cr                                  591   \n",
       "siteClusterIds_cr                                533   \n",
       "cityGrpDimId_cr                                  323   \n",
       "clickbid_cr                                      275   \n",
       "audiences_cr                                     179   \n",
       "clickTimeInMillis_cr                             111   \n",
       "refurl_cr                                        105   \n",
       "templateid_cr                                     87   \n",
       "stateGrpDimId_cr                                  85   \n",
       "allAudiences_cr                                   47   \n",
       "v_cr                                               1   \n",
       "osVerDimId_cr                                      0   \n",
       "conversionDurationInMillis_cr                      0   \n",
       "impressionTimeInMillis_cr                          0   \n",
       "clientid_cr                                        0   \n",
       "uuidSource_cr                                      0   \n",
       "geoGrpDimId_cr                                     0   \n",
       "countryDimId_cr                                    0   \n",
       "goalTypeId_cr                                      0   \n",
       "lookUpFrom_cr                                      0   \n",
       "ispDimId_cr                                        0   \n",
       "connTypeDimId_cr                                   0   \n",
       "conversiontime_cr                                  0   \n",
       "imprid_cr                                          0   \n",
       "adslotdimid_cr                                     0   \n",
       "algo_cr                                            0   \n",
       "geodimid_cr                                        0   \n",
       "ip_cr                                              0   \n",
       "itemcolumbiaid_cr                                  0   \n",
       "itemid_cr                                          0   \n",
       "position_cr                                        0   \n",
       "pubclientid_cr                                     0   \n",
       "siteId_cr                                          0   \n",
       "goalid_cr                                          0   \n",
       "time_cr                                            0   \n",
       "adLogType_cr                                       0   \n",
       "pricingtype_cr                                     0   \n",
       "osId_cr                                            0   \n",
       "browserId_cr                                       0   \n",
       "cityId_cr                                          0   \n",
       "stateId_cr                                         0   \n",
       "modelDimId_cr                                      0   \n",
       "clmbuserid_cr                                      0   \n",
       "conversion_fraud                                   0   \n",
       "\n",
       "                               Percentage of Missing Values  \n",
       "uvh_cr                                           100.000000  \n",
       "conversionid_cr                                   99.576271  \n",
       "bundleId_cr                                       99.470339  \n",
       "sdkVersion_cr                                     99.258475  \n",
       "uv_cr                                             96.927966  \n",
       "optimize_on_cr                                    95.762712  \n",
       "refClusterId_cr                                   93.008475  \n",
       "platformId_cr                                     88.241525  \n",
       "deviceId_cr                                       88.241525  \n",
       "attributionType_cr                                81.567797  \n",
       "spend_cr                                          81.567797  \n",
       "paid_cr                                           81.567797  \n",
       "usrClusterId_cr                                   62.605932  \n",
       "siteClusterIds_cr                                 56.461864  \n",
       "cityGrpDimId_cr                                   34.216102  \n",
       "clickbid_cr                                       29.131356  \n",
       "audiences_cr                                      18.961864  \n",
       "clickTimeInMillis_cr                              11.758475  \n",
       "refurl_cr                                         11.122881  \n",
       "templateid_cr                                      9.216102  \n",
       "stateGrpDimId_cr                                   9.004237  \n",
       "allAudiences_cr                                    4.978814  \n",
       "v_cr                                               0.105932  \n",
       "osVerDimId_cr                                      0.000000  \n",
       "conversionDurationInMillis_cr                      0.000000  \n",
       "impressionTimeInMillis_cr                          0.000000  \n",
       "clientid_cr                                        0.000000  \n",
       "uuidSource_cr                                      0.000000  \n",
       "geoGrpDimId_cr                                     0.000000  \n",
       "countryDimId_cr                                    0.000000  \n",
       "goalTypeId_cr                                      0.000000  \n",
       "lookUpFrom_cr                                      0.000000  \n",
       "ispDimId_cr                                        0.000000  \n",
       "connTypeDimId_cr                                   0.000000  \n",
       "conversiontime_cr                                  0.000000  \n",
       "imprid_cr                                          0.000000  \n",
       "adslotdimid_cr                                     0.000000  \n",
       "algo_cr                                            0.000000  \n",
       "geodimid_cr                                        0.000000  \n",
       "ip_cr                                              0.000000  \n",
       "itemcolumbiaid_cr                                  0.000000  \n",
       "itemid_cr                                          0.000000  \n",
       "position_cr                                        0.000000  \n",
       "pubclientid_cr                                     0.000000  \n",
       "siteId_cr                                          0.000000  \n",
       "goalid_cr                                          0.000000  \n",
       "time_cr                                            0.000000  \n",
       "adLogType_cr                                       0.000000  \n",
       "pricingtype_cr                                     0.000000  \n",
       "osId_cr                                            0.000000  \n",
       "browserId_cr                                       0.000000  \n",
       "cityId_cr                                          0.000000  \n",
       "stateId_cr                                         0.000000  \n",
       "modelDimId_cr                                      0.000000  \n",
       "clmbuserid_cr                                      0.000000  \n",
       "conversion_fraud                                   0.000000  "
      ]
     },
     "execution_count": 91,
     "metadata": {},
     "output_type": "execute_result"
    }
   ],
   "source": [
    "# Check the percetage of missing values in columns\n",
    "null_val = Data.isnull().sum()\n",
    "null_per = (Data.isnull().sum()/Data.shape[0])*100\n",
    "dic ={'No. of Missing Values':null_val,'Percentage of Missing Values':null_per}\n",
    "df = pd.DataFrame(dic,columns=['No. of Missing Values','Percentage of Missing Values'])\n",
    "df.sort_values(by='Percentage of Missing Values',ascending=False)"
   ]
  },
  {
   "cell_type": "code",
   "execution_count": 92,
   "id": "c63d02d1-e81c-4acf-8414-00625327551d",
   "metadata": {},
   "outputs": [],
   "source": [
    "#  Add a Flag to Identify the Train and Test Data Set\n",
    "Data['Type'] = 1\n",
    "Test_Data['Type'] = 0"
   ]
  },
  {
   "cell_type": "code",
   "execution_count": 93,
   "id": "293440e2-54db-4e40-8d77-85d09236a134",
   "metadata": {},
   "outputs": [
    {
     "name": "stdout",
     "output_type": "stream",
     "text": [
      "Shape of Train Data (944, 57)\n",
      "Shape of Test Data (455, 57)\n"
     ]
    }
   ],
   "source": [
    "print('Shape of Train Data',Data.shape)\n",
    "print('Shape of Test Data',Test_Data.shape)"
   ]
  },
  {
   "cell_type": "code",
   "execution_count": 94,
   "id": "072d20da-772b-477e-a2be-c1f7ab893699",
   "metadata": {},
   "outputs": [
    {
     "name": "stdout",
     "output_type": "stream",
     "text": [
      "Shape of Full Data (1399, 58)\n"
     ]
    }
   ],
   "source": [
    "# Concat the Data sets\n",
    "Full_Data=pd.concat([Data,Test_Data],axis=0)\n",
    "print('Shape of Full Data',Full_Data.shape)"
   ]
  },
  {
   "cell_type": "code",
   "execution_count": 95,
   "id": "573c245f-e5de-43df-be93-0a3ab9b1f77c",
   "metadata": {},
   "outputs": [
    {
     "name": "stdout",
     "output_type": "stream",
     "text": [
      "Shape of after  (1399, 44)\n"
     ]
    }
   ],
   "source": [
    "# Create a list of columns which has more than 50% missing values and remove those columns\n",
    "remove_col_lst=df[df['Percentage of Missing Values']>=50.0].index\n",
    "Full_Data.drop(remove_col_lst,axis=1,inplace=True)\n",
    "print('Shape of after ',Full_Data.shape)"
   ]
  },
  {
   "cell_type": "code",
   "execution_count": 96,
   "id": "4a6af3e7",
   "metadata": {},
   "outputs": [],
   "source": [
    "Full_Data = pd.merge(Full_Data, Click_log[[\"imprId\", \"clickIp\"]], left_on=\"imprid_cr\", right_on=\"imprId\", how=\"left\")\n",
    "Full_Data['clickIp'] = Full_Data['clickIp'].astype(str)"
   ]
  },
  {
   "cell_type": "code",
   "execution_count": 97,
   "id": "e87aac64",
   "metadata": {},
   "outputs": [],
   "source": [
    "# Removing cols that are not relavant\n",
    "not_relevant_col=[\"v_cr\",\"record_id\",\"templateid_cr\",\"geodimid_cr\",\"goalTypeId_cr\"]\n",
    "Full_Data.drop(not_relevant_col,axis=1,inplace=True)"
   ]
  },
  {
   "cell_type": "code",
   "execution_count": 98,
   "id": "64afaa4e-4478-4cb7-aa4f-c160548d5b45",
   "metadata": {},
   "outputs": [
    {
     "data": {
      "text/plain": [
       "audiences_cr             object\n",
       "clickbid_cr             float64\n",
       "refurl_cr                object\n",
       "allAudiences_cr          object\n",
       "clickTimeInMillis_cr    float64\n",
       "stateGrpDimId_cr        float64\n",
       "cityGrpDimId_cr         float64\n",
       "conversion_fraud         object\n",
       "imprId                   object\n",
       "dtype: object"
      ]
     },
     "execution_count": 98,
     "metadata": {},
     "output_type": "execute_result"
    }
   ],
   "source": [
    "# Check dtypes of column which has missing values\n",
    "Full_Data.dtypes[Full_Data.isnull().any()]"
   ]
  },
  {
   "cell_type": "code",
   "execution_count": 99,
   "id": "6b673a72-c74a-4342-9f60-55f8ef1325de",
   "metadata": {},
   "outputs": [
    {
     "data": {
      "text/plain": [
       "array([True, False, nan], dtype=object)"
      ]
     },
     "execution_count": 99,
     "metadata": {},
     "output_type": "execute_result"
    }
   ],
   "source": [
    "# Conversion column is our Target column \n",
    "Full_Data['conversion_fraud'].unique()"
   ]
  },
  {
   "cell_type": "code",
   "execution_count": 100,
   "id": "cf7abe7d-a48f-44af-86e2-64d77a5a4924",
   "metadata": {},
   "outputs": [],
   "source": [
    "Full_Data['conversion_fraud'].replace((True,False),(1,0),inplace=True)"
   ]
  },
  {
   "cell_type": "code",
   "execution_count": 101,
   "id": "cba31829-eb86-46c1-af1e-6126e5c63a96",
   "metadata": {},
   "outputs": [
    {
     "data": {
      "text/plain": [
       "clientid_cr                        0\n",
       "conversiontime_cr                  0\n",
       "adslotdimid_cr                     0\n",
       "algo_cr                            0\n",
       "clickbid_cr                      437\n",
       "itemcolumbiaid_cr                  0\n",
       "itemid_cr                          0\n",
       "position_cr                        0\n",
       "pubclientid_cr                     0\n",
       "siteId_cr                          0\n",
       "goalid_cr                          0\n",
       "time_cr                            0\n",
       "adLogType_cr                       0\n",
       "pricingtype_cr                     0\n",
       "osId_cr                            0\n",
       "browserId_cr                       0\n",
       "cityId_cr                          0\n",
       "stateId_cr                         0\n",
       "modelDimId_cr                      0\n",
       "lookUpFrom_cr                      0\n",
       "ispDimId_cr                        0\n",
       "countryDimId_cr                    0\n",
       "conversionDurationInMillis_cr      0\n",
       "impressionTimeInMillis_cr          0\n",
       "clickTimeInMillis_cr             191\n",
       "osVerDimId_cr                      0\n",
       "uuidSource_cr                      0\n",
       "geoGrpDimId_cr                     0\n",
       "stateGrpDimId_cr                 179\n",
       "cityGrpDimId_cr                  534\n",
       "conversion_fraud                 489\n",
       "Type                               0\n",
       "dtype: int64"
      ]
     },
     "execution_count": 101,
     "metadata": {},
     "output_type": "execute_result"
    }
   ],
   "source": [
    "# Drop the object type columns from data \n",
    "Full_Data.drop(Full_Data.select_dtypes('object').columns,axis=1,inplace=True)\n",
    "Full_Data.isnull().sum()"
   ]
  },
  {
   "cell_type": "code",
   "execution_count": 102,
   "id": "e727fe07-8165-4f07-b077-768548c3c665",
   "metadata": {},
   "outputs": [],
   "source": [
    "# Fill the values of data\n",
    "\n",
    "Full_Data['cityGrpDimId_cr'].fillna(Full_Data['cityGrpDimId_cr'].mode()[0],inplace=True)\n",
    "Full_Data['stateGrpDimId_cr'].fillna(Full_Data['stateGrpDimId_cr'].mode()[0],inplace=True)\n",
    "Full_Data['clickTimeInMillis_cr'].fillna(Full_Data['clickTimeInMillis_cr'].mode()[0],inplace=True)\n",
    "Full_Data['clickbid_cr'].fillna(Full_Data['clickbid_cr'].mode()[0],inplace=True)"
   ]
  },
  {
   "attachments": {},
   "cell_type": "markdown",
   "id": "178ec8c1-337f-4a39-a164-6e386e33ac53",
   "metadata": {},
   "source": [
    "## **Data Normalization**"
   ]
  },
  {
   "cell_type": "code",
   "execution_count": 103,
   "id": "1d576901-6188-4b34-996d-aae98432233f",
   "metadata": {},
   "outputs": [],
   "source": [
    "from sklearn.preprocessing import minmax_scale"
   ]
  },
  {
   "cell_type": "code",
   "execution_count": 104,
   "id": "8fda8853-607f-4239-b25e-9126081cf8ce",
   "metadata": {},
   "outputs": [],
   "source": [
    "# Stor column names\n",
    "cloumn_names=Full_Data.columns\n",
    "\n",
    "scaled_Full_Data = minmax_scale(Full_Data, feature_range=(0,1))"
   ]
  },
  {
   "cell_type": "code",
   "execution_count": 105,
   "id": "a28b6697-5654-42cc-a845-ec1f42f3a8d8",
   "metadata": {},
   "outputs": [
    {
     "data": {
      "text/html": [
       "<div>\n",
       "<style scoped>\n",
       "    .dataframe tbody tr th:only-of-type {\n",
       "        vertical-align: middle;\n",
       "    }\n",
       "\n",
       "    .dataframe tbody tr th {\n",
       "        vertical-align: top;\n",
       "    }\n",
       "\n",
       "    .dataframe thead th {\n",
       "        text-align: right;\n",
       "    }\n",
       "</style>\n",
       "<table border=\"1\" class=\"dataframe\">\n",
       "  <thead>\n",
       "    <tr style=\"text-align: right;\">\n",
       "      <th></th>\n",
       "      <th>clientid_cr</th>\n",
       "      <th>conversiontime_cr</th>\n",
       "      <th>adslotdimid_cr</th>\n",
       "      <th>algo_cr</th>\n",
       "      <th>clickbid_cr</th>\n",
       "      <th>itemcolumbiaid_cr</th>\n",
       "      <th>itemid_cr</th>\n",
       "      <th>position_cr</th>\n",
       "      <th>pubclientid_cr</th>\n",
       "      <th>siteId_cr</th>\n",
       "      <th>...</th>\n",
       "      <th>conversionDurationInMillis_cr</th>\n",
       "      <th>impressionTimeInMillis_cr</th>\n",
       "      <th>clickTimeInMillis_cr</th>\n",
       "      <th>osVerDimId_cr</th>\n",
       "      <th>uuidSource_cr</th>\n",
       "      <th>geoGrpDimId_cr</th>\n",
       "      <th>stateGrpDimId_cr</th>\n",
       "      <th>cityGrpDimId_cr</th>\n",
       "      <th>conversion_fraud</th>\n",
       "      <th>Type</th>\n",
       "    </tr>\n",
       "  </thead>\n",
       "  <tbody>\n",
       "    <tr>\n",
       "      <th>0</th>\n",
       "      <td>0.873346</td>\n",
       "      <td>0.0</td>\n",
       "      <td>0.830089</td>\n",
       "      <td>0.001423</td>\n",
       "      <td>0.09359</td>\n",
       "      <td>0.944360</td>\n",
       "      <td>0.766087</td>\n",
       "      <td>1.225933e-09</td>\n",
       "      <td>0.027273</td>\n",
       "      <td>0.009414</td>\n",
       "      <td>...</td>\n",
       "      <td>8.463155e-07</td>\n",
       "      <td>1.0</td>\n",
       "      <td>1.0</td>\n",
       "      <td>0.551815</td>\n",
       "      <td>0.0</td>\n",
       "      <td>0.0</td>\n",
       "      <td>0.285714</td>\n",
       "      <td>0.4</td>\n",
       "      <td>1.0</td>\n",
       "      <td>1.0</td>\n",
       "    </tr>\n",
       "    <tr>\n",
       "      <th>1</th>\n",
       "      <td>0.873346</td>\n",
       "      <td>0.0</td>\n",
       "      <td>0.000527</td>\n",
       "      <td>0.001423</td>\n",
       "      <td>0.08982</td>\n",
       "      <td>0.944648</td>\n",
       "      <td>0.766087</td>\n",
       "      <td>1.225933e-09</td>\n",
       "      <td>0.179221</td>\n",
       "      <td>0.053143</td>\n",
       "      <td>...</td>\n",
       "      <td>1.191272e-06</td>\n",
       "      <td>1.0</td>\n",
       "      <td>1.0</td>\n",
       "      <td>0.551815</td>\n",
       "      <td>0.0</td>\n",
       "      <td>0.0</td>\n",
       "      <td>0.571429</td>\n",
       "      <td>1.0</td>\n",
       "      <td>1.0</td>\n",
       "      <td>1.0</td>\n",
       "    </tr>\n",
       "    <tr>\n",
       "      <th>2</th>\n",
       "      <td>0.873346</td>\n",
       "      <td>0.0</td>\n",
       "      <td>0.000527</td>\n",
       "      <td>0.001423</td>\n",
       "      <td>0.08982</td>\n",
       "      <td>0.944648</td>\n",
       "      <td>0.766087</td>\n",
       "      <td>1.225933e-09</td>\n",
       "      <td>0.179221</td>\n",
       "      <td>0.053143</td>\n",
       "      <td>...</td>\n",
       "      <td>1.191272e-06</td>\n",
       "      <td>1.0</td>\n",
       "      <td>1.0</td>\n",
       "      <td>0.551815</td>\n",
       "      <td>0.0</td>\n",
       "      <td>0.0</td>\n",
       "      <td>0.571429</td>\n",
       "      <td>1.0</td>\n",
       "      <td>1.0</td>\n",
       "      <td>1.0</td>\n",
       "    </tr>\n",
       "    <tr>\n",
       "      <th>3</th>\n",
       "      <td>0.873346</td>\n",
       "      <td>0.0</td>\n",
       "      <td>0.831186</td>\n",
       "      <td>0.000769</td>\n",
       "      <td>0.08982</td>\n",
       "      <td>0.944360</td>\n",
       "      <td>0.766087</td>\n",
       "      <td>1.225933e-09</td>\n",
       "      <td>0.027273</td>\n",
       "      <td>0.009414</td>\n",
       "      <td>...</td>\n",
       "      <td>1.040428e-06</td>\n",
       "      <td>1.0</td>\n",
       "      <td>1.0</td>\n",
       "      <td>0.551815</td>\n",
       "      <td>0.0</td>\n",
       "      <td>0.0</td>\n",
       "      <td>1.000000</td>\n",
       "      <td>0.4</td>\n",
       "      <td>1.0</td>\n",
       "      <td>1.0</td>\n",
       "    </tr>\n",
       "    <tr>\n",
       "      <th>4</th>\n",
       "      <td>0.873346</td>\n",
       "      <td>0.0</td>\n",
       "      <td>0.830089</td>\n",
       "      <td>0.001423</td>\n",
       "      <td>0.08982</td>\n",
       "      <td>0.944360</td>\n",
       "      <td>0.766087</td>\n",
       "      <td>1.225933e-09</td>\n",
       "      <td>0.027273</td>\n",
       "      <td>0.009414</td>\n",
       "      <td>...</td>\n",
       "      <td>1.168646e-06</td>\n",
       "      <td>1.0</td>\n",
       "      <td>1.0</td>\n",
       "      <td>0.551815</td>\n",
       "      <td>0.0</td>\n",
       "      <td>0.0</td>\n",
       "      <td>0.428571</td>\n",
       "      <td>0.4</td>\n",
       "      <td>1.0</td>\n",
       "      <td>1.0</td>\n",
       "    </tr>\n",
       "  </tbody>\n",
       "</table>\n",
       "<p>5 rows × 32 columns</p>\n",
       "</div>"
      ],
      "text/plain": [
       "   clientid_cr  conversiontime_cr  adslotdimid_cr   algo_cr  clickbid_cr  \\\n",
       "0     0.873346                0.0        0.830089  0.001423      0.09359   \n",
       "1     0.873346                0.0        0.000527  0.001423      0.08982   \n",
       "2     0.873346                0.0        0.000527  0.001423      0.08982   \n",
       "3     0.873346                0.0        0.831186  0.000769      0.08982   \n",
       "4     0.873346                0.0        0.830089  0.001423      0.08982   \n",
       "\n",
       "   itemcolumbiaid_cr  itemid_cr   position_cr  pubclientid_cr  siteId_cr  ...  \\\n",
       "0           0.944360   0.766087  1.225933e-09        0.027273   0.009414  ...   \n",
       "1           0.944648   0.766087  1.225933e-09        0.179221   0.053143  ...   \n",
       "2           0.944648   0.766087  1.225933e-09        0.179221   0.053143  ...   \n",
       "3           0.944360   0.766087  1.225933e-09        0.027273   0.009414  ...   \n",
       "4           0.944360   0.766087  1.225933e-09        0.027273   0.009414  ...   \n",
       "\n",
       "   conversionDurationInMillis_cr  impressionTimeInMillis_cr  \\\n",
       "0                   8.463155e-07                        1.0   \n",
       "1                   1.191272e-06                        1.0   \n",
       "2                   1.191272e-06                        1.0   \n",
       "3                   1.040428e-06                        1.0   \n",
       "4                   1.168646e-06                        1.0   \n",
       "\n",
       "   clickTimeInMillis_cr  osVerDimId_cr  uuidSource_cr  geoGrpDimId_cr  \\\n",
       "0                   1.0       0.551815            0.0             0.0   \n",
       "1                   1.0       0.551815            0.0             0.0   \n",
       "2                   1.0       0.551815            0.0             0.0   \n",
       "3                   1.0       0.551815            0.0             0.0   \n",
       "4                   1.0       0.551815            0.0             0.0   \n",
       "\n",
       "   stateGrpDimId_cr  cityGrpDimId_cr  conversion_fraud  Type  \n",
       "0          0.285714              0.4               1.0   1.0  \n",
       "1          0.571429              1.0               1.0   1.0  \n",
       "2          0.571429              1.0               1.0   1.0  \n",
       "3          1.000000              0.4               1.0   1.0  \n",
       "4          0.428571              0.4               1.0   1.0  \n",
       "\n",
       "[5 rows x 32 columns]"
      ]
     },
     "execution_count": 105,
     "metadata": {},
     "output_type": "execute_result"
    }
   ],
   "source": [
    "# Convert to Pandas DataFrame and add Columns names\n",
    "scaled_Full_Data=pd.DataFrame(scaled_Full_Data,columns=cloumn_names)\n",
    "scaled_Full_Data.head()"
   ]
  },
  {
   "cell_type": "code",
   "execution_count": 106,
   "id": "e53822f5-715a-4fbb-9594-b3a0a596c593",
   "metadata": {},
   "outputs": [],
   "source": [
    "# Seperate the Train and Test Data Sets using flages created earlier\n",
    "Data_Modified= scaled_Full_Data[scaled_Full_Data['Type']==1]\n",
    "Test_Modified= scaled_Full_Data[scaled_Full_Data['Type']==0]"
   ]
  },
  {
   "cell_type": "code",
   "execution_count": 107,
   "id": "75502e50-26b6-46c2-be9e-41d5ee376280",
   "metadata": {},
   "outputs": [
    {
     "name": "stdout",
     "output_type": "stream",
     "text": [
      "Shape of Train Data (1025, 32)\n",
      "Shape of Test Data (489, 32)\n"
     ]
    }
   ],
   "source": [
    "print('Shape of Train Data',Data_Modified.shape)\n",
    "print('Shape of Test Data',Test_Modified.shape)"
   ]
  },
  {
   "attachments": {},
   "cell_type": "markdown",
   "id": "2f0d3afa-0938-42a5-a658-685ec964a158",
   "metadata": {},
   "source": [
    "### **Set Target Variable**"
   ]
  },
  {
   "cell_type": "code",
   "execution_count": 108,
   "id": "a759c87e-4c7d-478c-9b87-1315c2b3c24f",
   "metadata": {},
   "outputs": [],
   "source": [
    "# Split the Target column from the Data\n",
    "X = Data_Modified.drop(['conversion_fraud'],axis=1)\n",
    "Y = Data_Modified['conversion_fraud']"
   ]
  },
  {
   "cell_type": "code",
   "execution_count": 109,
   "id": "23f67228-7d7c-4a35-8266-c4ced2990be7",
   "metadata": {},
   "outputs": [
    {
     "name": "stdout",
     "output_type": "stream",
     "text": [
      "Shape of X: (1025, 31)\n",
      "Shape of Y: (1025,)\n"
     ]
    }
   ],
   "source": [
    "# Check the Shape of X and Y\n",
    "print('Shape of X:', X.shape)\n",
    "print('Shape of Y:', Y.shape)"
   ]
  },
  {
   "attachments": {},
   "cell_type": "markdown",
   "id": "46e0e5a8-58cf-4161-a5bc-fb796d1fb693",
   "metadata": {},
   "source": [
    "### **Balancing Dataset**"
   ]
  },
  {
   "cell_type": "code",
   "execution_count": 110,
   "id": "30e02c39-db82-4ed1-9e6a-5456d46a0bdb",
   "metadata": {},
   "outputs": [],
   "source": [
    "# Import the SMOTE algorithm to oversample \n",
    "from imblearn.over_sampling import SMOTE\n",
    "x_res, y_res = SMOTE().fit_resample(X, Y)"
   ]
  },
  {
   "cell_type": "code",
   "execution_count": 111,
   "id": "39a3b632-6ced-4a4d-b0fe-a9ba9645d546",
   "metadata": {},
   "outputs": [
    {
     "name": "stdout",
     "output_type": "stream",
     "text": [
      "Shape of X: (1626, 31)\n",
      "Shape of X: (1626,)\n",
      "\n",
      "\n",
      "Before Resambling :\n",
      "0.0    813\n",
      "1.0    212\n",
      "Name: conversion_fraud, dtype: int64\n",
      "\n",
      " After Resambling :\n",
      "1.0    813\n",
      "0.0    813\n",
      "Name: conversion_fraud, dtype: int64\n"
     ]
    }
   ],
   "source": [
    "# Check Shape of X and Y after resampling it\n",
    "print('Shape of X:',x_res.shape)\n",
    "print('Shape of X:',y_res.shape)\n",
    "print('\\n')\n",
    "# Check the value counts of target variable\n",
    "print(\"Before Resambling :\")\n",
    "print(Y.value_counts())\n",
    "print(\"\\n After Resambling :\")\n",
    "print(y_res.value_counts())"
   ]
  },
  {
   "attachments": {},
   "cell_type": "markdown",
   "id": "9cfde34e-c215-4ad2-a6c9-cd45255fbb38",
   "metadata": {},
   "source": [
    "### **Split Train and Test Data set**"
   ]
  },
  {
   "cell_type": "code",
   "execution_count": 112,
   "id": "33e03f6e-442a-41e6-b2f9-dc794a9678e6",
   "metadata": {},
   "outputs": [
    {
     "name": "stdout",
     "output_type": "stream",
     "text": [
      "Shape of the x Train : (1300, 31)\n",
      "Shape of the y Train : (1300,)\n",
      "Shape of the x Test : (326, 31)\n",
      "Shape of the y Test : (326,)\n"
     ]
    }
   ],
   "source": [
    "from sklearn.model_selection import train_test_split\n",
    "\n",
    "x_train, x_test, y_train, y_test = train_test_split(x_res,y_res, test_size=0.20, random_state=0,shuffle= True, stratify=y_res)\n",
    "\n",
    "print(\"Shape of the x Train :\", x_train.shape)\n",
    "print(\"Shape of the y Train :\", y_train.shape)\n",
    "print(\"Shape of the x Test :\", x_test.shape)\n",
    "print(\"Shape of the y Test :\", y_test.shape)"
   ]
  },
  {
   "cell_type": "code",
   "execution_count": 113,
   "id": "e2bf099c-d394-4e7e-be1d-d45e33df1a80",
   "metadata": {},
   "outputs": [],
   "source": [
    "# Import accuracy_score to check the accuracy of Model\n",
    "from sklearn.metrics import accuracy_score"
   ]
  },
  {
   "attachments": {},
   "cell_type": "markdown",
   "id": "c2a2ecee-a4bb-4697-80a8-45a5e91dc00a",
   "metadata": {},
   "source": [
    "## **ML Models**"
   ]
  },
  {
   "cell_type": "code",
   "execution_count": 114,
   "id": "ffac192a",
   "metadata": {},
   "outputs": [
    {
     "data": {
      "text/plain": [
       "clientid_cr                      float64\n",
       "conversiontime_cr                float64\n",
       "adslotdimid_cr                   float64\n",
       "algo_cr                          float64\n",
       "clickbid_cr                      float64\n",
       "itemcolumbiaid_cr                float64\n",
       "itemid_cr                        float64\n",
       "position_cr                      float64\n",
       "pubclientid_cr                   float64\n",
       "siteId_cr                        float64\n",
       "goalid_cr                        float64\n",
       "time_cr                          float64\n",
       "adLogType_cr                     float64\n",
       "pricingtype_cr                   float64\n",
       "osId_cr                          float64\n",
       "browserId_cr                     float64\n",
       "cityId_cr                        float64\n",
       "stateId_cr                       float64\n",
       "modelDimId_cr                    float64\n",
       "lookUpFrom_cr                    float64\n",
       "ispDimId_cr                      float64\n",
       "countryDimId_cr                  float64\n",
       "conversionDurationInMillis_cr    float64\n",
       "impressionTimeInMillis_cr        float64\n",
       "clickTimeInMillis_cr             float64\n",
       "osVerDimId_cr                    float64\n",
       "uuidSource_cr                    float64\n",
       "geoGrpDimId_cr                   float64\n",
       "stateGrpDimId_cr                 float64\n",
       "cityGrpDimId_cr                  float64\n",
       "Type                             float64\n",
       "dtype: object"
      ]
     },
     "execution_count": 114,
     "metadata": {},
     "output_type": "execute_result"
    }
   ],
   "source": [
    "x_train.dtypes"
   ]
  },
  {
   "attachments": {},
   "cell_type": "markdown",
   "id": "1be68b33-da2c-4fea-9e47-bab153963478",
   "metadata": {},
   "source": [
    "### **KNN Classifier**"
   ]
  },
  {
   "cell_type": "code",
   "execution_count": 115,
   "id": "12b69af0-feea-4faf-a83b-ffda17f4b4f5",
   "metadata": {},
   "outputs": [
    {
     "name": "stdout",
     "output_type": "stream",
     "text": [
      "Accuracy : 83.44% \n"
     ]
    }
   ],
   "source": [
    "# KNN Classifier\n",
    "from sklearn.neighbors import KNeighborsClassifier\n",
    "\n",
    "kNN = KNeighborsClassifier(n_neighbors = 10, metric = 'minkowski', p = 1)\n",
    "\n",
    "kNN.fit(x_train,y_train)\n",
    "\n",
    "y_pred_KNN = kNN.predict(x_test)\n",
    "\n",
    "print('Accuracy : %s '%'{0:.2%}'.format(accuracy_score(y_test, y_pred_KNN)))"
   ]
  },
  {
   "cell_type": "code",
   "execution_count": 116,
   "id": "ef5438e0",
   "metadata": {},
   "outputs": [
    {
     "name": "stdout",
     "output_type": "stream",
     "text": [
      "Confusion Matrix:\n",
      "[[117  46]\n",
      " [  8 155]]\n",
      "Classification Report:\n",
      "              precision    recall  f1-score   support\n",
      "\n",
      "         0.0       0.94      0.72      0.81       163\n",
      "         1.0       0.77      0.95      0.85       163\n",
      "\n",
      "    accuracy                           0.83       326\n",
      "   macro avg       0.85      0.83      0.83       326\n",
      "weighted avg       0.85      0.83      0.83       326\n",
      "\n"
     ]
    }
   ],
   "source": [
    "from sklearn.metrics import accuracy_score, classification_report, confusion_matrix\n",
    "conf_matrix = confusion_matrix(y_test, y_pred_KNN)\n",
    "classification_rep = classification_report(y_test, y_pred_KNN)\n",
    "\n",
    "\n",
    "print('Confusion Matrix:')\n",
    "print(conf_matrix)\n",
    "print('Classification Report:')\n",
    "print(classification_rep)"
   ]
  },
  {
   "attachments": {},
   "cell_type": "markdown",
   "id": "b437d808-cb6b-4e01-a2fe-6e0513c75a1e",
   "metadata": {},
   "source": [
    "### **DecisionTree Classifier**"
   ]
  },
  {
   "cell_type": "code",
   "execution_count": 117,
   "id": "9bfc8efa-8fe2-4db7-a781-44b094c16c44",
   "metadata": {},
   "outputs": [
    {
     "name": "stdout",
     "output_type": "stream",
     "text": [
      "Accuracy : 90.80% \n"
     ]
    }
   ],
   "source": [
    "# DecisionTreeClassifier\n",
    "from sklearn.tree import DecisionTreeClassifier\n",
    "\n",
    "Dt = DecisionTreeClassifier()\n",
    "\n",
    "Dt.fit(x_train,y_train)\n",
    "\n",
    "y_pred_Dt = Dt.predict(x_test)\n",
    "\n",
    "print('Accuracy : %s '%'{0:.2%}'.format(accuracy_score(y_test, y_pred_Dt)))"
   ]
  },
  {
   "cell_type": "code",
   "execution_count": 118,
   "id": "a914da80",
   "metadata": {},
   "outputs": [
    {
     "name": "stdout",
     "output_type": "stream",
     "text": [
      "Confusion Matrix:\n",
      "[[144  19]\n",
      " [ 11 152]]\n",
      "Classification Report:\n",
      "              precision    recall  f1-score   support\n",
      "\n",
      "         0.0       0.93      0.88      0.91       163\n",
      "         1.0       0.89      0.93      0.91       163\n",
      "\n",
      "    accuracy                           0.91       326\n",
      "   macro avg       0.91      0.91      0.91       326\n",
      "weighted avg       0.91      0.91      0.91       326\n",
      "\n"
     ]
    }
   ],
   "source": [
    "conf_matrix = confusion_matrix(y_test, y_pred_Dt)\n",
    "classification_rep = classification_report(y_test, y_pred_Dt)\n",
    "\n",
    "\n",
    "print('Confusion Matrix:')\n",
    "print(conf_matrix)\n",
    "print('Classification Report:')\n",
    "print(classification_rep)"
   ]
  },
  {
   "attachments": {},
   "cell_type": "markdown",
   "id": "be5281c3-850a-4c09-bd07-4cfb8f7348c5",
   "metadata": {},
   "source": [
    "### **Gradient Boosting Classifier**"
   ]
  },
  {
   "cell_type": "code",
   "execution_count": 119,
   "id": "8634ad2e-3da9-4340-b2f4-015f41475c9a",
   "metadata": {},
   "outputs": [
    {
     "name": "stdout",
     "output_type": "stream",
     "text": [
      "Accuracy : 96.93% \n"
     ]
    }
   ],
   "source": [
    "# Gradient Boosting Classifier\n",
    "# Import Grdient Boosting Classifier from sklearn\n",
    "from sklearn.ensemble import GradientBoostingClassifier\n",
    "\n",
    "# Create  ML Model and fit the training data\n",
    "GBC = GradientBoostingClassifier(learning_rate=0.2, max_depth=4, n_estimators=200, random_state=25)\n",
    "GBC.fit(x_train, y_train)\n",
    "\n",
    "# Predict Output and Store it \n",
    "y_pred_GBC= GBC.predict(x_test)\n",
    "\n",
    "# Accuracy\n",
    "from sklearn.metrics import accuracy_score\n",
    "print('Accuracy : %s '%'{0:.2%}'.format(accuracy_score(y_test, y_pred_GBC)))"
   ]
  },
  {
   "attachments": {},
   "cell_type": "markdown",
   "id": "ed1735f5-f5ae-4f31-8f27-107a24ba657e",
   "metadata": {},
   "source": [
    "### **Confusion Matrix**"
   ]
  },
  {
   "cell_type": "code",
   "execution_count": 120,
   "id": "7ca42b04-39aa-4edd-8351-1c27a2e6ae2d",
   "metadata": {},
   "outputs": [
    {
     "data": {
      "image/png": "[encoded data removed]",
      "text/plain": [
       "<Figure size 400x400 with 2 Axes>"
      ]
     },
     "metadata": {},
     "output_type": "display_data"
    }
   ],
   "source": [
    "# Confusion Matrix\n",
    "\n",
    "# Analyze the Performance of Gradient Boosting using Confusion matrix\n",
    "from sklearn.metrics import confusion_matrix\n",
    "Conf_Matrix = confusion_matrix(y_test, y_pred_GBC)\n",
    "\n",
    "plt.style.use('fivethirtyeight')\n",
    "# Visualize the Confusion Matrix using heatmap\n",
    "plt.rcParams['figure.figsize'] = (4,4)\n",
    "sns.heatmap(Conf_Matrix, annot = True, fmt = '.8g',center=30,cmap=\"rocket\")\n",
    "plt.show()"
   ]
  },
  {
   "attachments": {},
   "cell_type": "markdown",
   "id": "6b005858-6dde-4c7b-8f67-b6dbd145754f",
   "metadata": {},
   "source": [
    "### **Classification Report**"
   ]
  },
  {
   "cell_type": "code",
   "execution_count": 121,
   "id": "95437fd8-624b-4f70-b1d1-0e996a82c123",
   "metadata": {},
   "outputs": [
    {
     "name": "stdout",
     "output_type": "stream",
     "text": [
      "              precision    recall  f1-score   support\n",
      "\n",
      "         0.0       0.99      0.94      0.97       163\n",
      "         1.0       0.95      0.99      0.97       163\n",
      "\n",
      "    accuracy                           0.97       326\n",
      "   macro avg       0.97      0.97      0.97       326\n",
      "weighted avg       0.97      0.97      0.97       326\n",
      "\n"
     ]
    }
   ],
   "source": [
    "# Check the Classification report for performance analysis\n",
    "\n",
    "from sklearn.metrics import  classification_report\n",
    "Class_Report = classification_report(y_test, y_pred_GBC)\n",
    "print(Class_Report)"
   ]
  },
  {
   "cell_type": "code",
   "execution_count": 124,
   "id": "ad3ec349",
   "metadata": {},
   "outputs": [
    {
     "name": "stdout",
     "output_type": "stream",
     "text": [
      "              precision    recall  f1-score   support\n",
      "\n",
      "         0.0       0.99      0.94      0.97       163\n",
      "         1.0       0.95      0.99      0.97       163\n",
      "\n",
      "    accuracy                           0.97       326\n",
      "   macro avg       0.97      0.97      0.97       326\n",
      "weighted avg       0.97      0.97      0.97       326\n",
      "\n"
     ]
    }
   ],
   "source": [
    "# Check the Classification report for performance analysis\n",
    "\n",
    "from sklearn.metrics import  classification_report\n",
    "Class_Report = classification_report(y_test, y_pred_GBC)\n",
    "print(Class_Report)"
   ]
  },
  {
   "attachments": {},
   "cell_type": "markdown",
   "id": "3c33b91d-7971-4d1b-a457-2913cde80e36",
   "metadata": {},
   "source": [
    "## **Applying ML Model On Testing Dataset**"
   ]
  },
  {
   "cell_type": "code",
   "execution_count": 125,
   "id": "890223d1-93a1-42fc-8755-eba442f7709e",
   "metadata": {},
   "outputs": [
    {
     "data": {
      "text/html": [
       "<div>\n",
       "<style scoped>\n",
       "    .dataframe tbody tr th:only-of-type {\n",
       "        vertical-align: middle;\n",
       "    }\n",
       "\n",
       "    .dataframe tbody tr th {\n",
       "        vertical-align: top;\n",
       "    }\n",
       "\n",
       "    .dataframe thead th {\n",
       "        text-align: right;\n",
       "    }\n",
       "</style>\n",
       "<table border=\"1\" class=\"dataframe\">\n",
       "  <thead>\n",
       "    <tr style=\"text-align: right;\">\n",
       "      <th></th>\n",
       "      <th>clientid_cr</th>\n",
       "      <th>conversiontime_cr</th>\n",
       "      <th>adslotdimid_cr</th>\n",
       "      <th>algo_cr</th>\n",
       "      <th>clickbid_cr</th>\n",
       "      <th>itemcolumbiaid_cr</th>\n",
       "      <th>itemid_cr</th>\n",
       "      <th>position_cr</th>\n",
       "      <th>pubclientid_cr</th>\n",
       "      <th>siteId_cr</th>\n",
       "      <th>...</th>\n",
       "      <th>conversionDurationInMillis_cr</th>\n",
       "      <th>impressionTimeInMillis_cr</th>\n",
       "      <th>clickTimeInMillis_cr</th>\n",
       "      <th>osVerDimId_cr</th>\n",
       "      <th>uuidSource_cr</th>\n",
       "      <th>geoGrpDimId_cr</th>\n",
       "      <th>stateGrpDimId_cr</th>\n",
       "      <th>cityGrpDimId_cr</th>\n",
       "      <th>conversion_fraud</th>\n",
       "      <th>Type</th>\n",
       "    </tr>\n",
       "  </thead>\n",
       "  <tbody>\n",
       "    <tr>\n",
       "      <th>1025</th>\n",
       "      <td>0.948305</td>\n",
       "      <td>0.0</td>\n",
       "      <td>0.450991</td>\n",
       "      <td>0.001423</td>\n",
       "      <td>0.089820</td>\n",
       "      <td>0.960550</td>\n",
       "      <td>0.960560</td>\n",
       "      <td>3.677799e-09</td>\n",
       "      <td>0.031248</td>\n",
       "      <td>0.000000</td>\n",
       "      <td>...</td>\n",
       "      <td>1.464801e-04</td>\n",
       "      <td>1.0</td>\n",
       "      <td>1.0</td>\n",
       "      <td>0.000000</td>\n",
       "      <td>0.0</td>\n",
       "      <td>0.166667</td>\n",
       "      <td>0.428571</td>\n",
       "      <td>0.4</td>\n",
       "      <td>NaN</td>\n",
       "      <td>0.0</td>\n",
       "    </tr>\n",
       "    <tr>\n",
       "      <th>1026</th>\n",
       "      <td>0.873346</td>\n",
       "      <td>0.0</td>\n",
       "      <td>0.984079</td>\n",
       "      <td>0.000731</td>\n",
       "      <td>0.104553</td>\n",
       "      <td>0.944648</td>\n",
       "      <td>0.766087</td>\n",
       "      <td>1.225933e-09</td>\n",
       "      <td>1.000000</td>\n",
       "      <td>0.998178</td>\n",
       "      <td>...</td>\n",
       "      <td>8.328189e-07</td>\n",
       "      <td>1.0</td>\n",
       "      <td>1.0</td>\n",
       "      <td>0.551710</td>\n",
       "      <td>0.0</td>\n",
       "      <td>0.000000</td>\n",
       "      <td>0.000000</td>\n",
       "      <td>0.2</td>\n",
       "      <td>NaN</td>\n",
       "      <td>0.0</td>\n",
       "    </tr>\n",
       "    <tr>\n",
       "      <th>1027</th>\n",
       "      <td>0.873346</td>\n",
       "      <td>0.0</td>\n",
       "      <td>0.984079</td>\n",
       "      <td>0.000654</td>\n",
       "      <td>0.104553</td>\n",
       "      <td>0.944360</td>\n",
       "      <td>0.766087</td>\n",
       "      <td>1.225933e-09</td>\n",
       "      <td>1.000000</td>\n",
       "      <td>0.998178</td>\n",
       "      <td>...</td>\n",
       "      <td>2.188432e-06</td>\n",
       "      <td>1.0</td>\n",
       "      <td>1.0</td>\n",
       "      <td>0.551710</td>\n",
       "      <td>0.0</td>\n",
       "      <td>0.000000</td>\n",
       "      <td>0.000000</td>\n",
       "      <td>0.2</td>\n",
       "      <td>NaN</td>\n",
       "      <td>0.0</td>\n",
       "    </tr>\n",
       "    <tr>\n",
       "      <th>1028</th>\n",
       "      <td>0.345516</td>\n",
       "      <td>0.0</td>\n",
       "      <td>0.978965</td>\n",
       "      <td>0.000769</td>\n",
       "      <td>0.089820</td>\n",
       "      <td>0.997236</td>\n",
       "      <td>0.982921</td>\n",
       "      <td>1.225933e-09</td>\n",
       "      <td>0.000000</td>\n",
       "      <td>1.000000</td>\n",
       "      <td>...</td>\n",
       "      <td>2.638583e-05</td>\n",
       "      <td>1.0</td>\n",
       "      <td>1.0</td>\n",
       "      <td>0.998301</td>\n",
       "      <td>0.0</td>\n",
       "      <td>0.000000</td>\n",
       "      <td>0.714286</td>\n",
       "      <td>1.0</td>\n",
       "      <td>NaN</td>\n",
       "      <td>0.0</td>\n",
       "    </tr>\n",
       "    <tr>\n",
       "      <th>1029</th>\n",
       "      <td>0.345516</td>\n",
       "      <td>0.0</td>\n",
       "      <td>0.978965</td>\n",
       "      <td>0.000769</td>\n",
       "      <td>0.089820</td>\n",
       "      <td>0.997236</td>\n",
       "      <td>0.982921</td>\n",
       "      <td>1.225933e-09</td>\n",
       "      <td>0.000000</td>\n",
       "      <td>1.000000</td>\n",
       "      <td>...</td>\n",
       "      <td>2.127261e-05</td>\n",
       "      <td>1.0</td>\n",
       "      <td>1.0</td>\n",
       "      <td>0.998301</td>\n",
       "      <td>0.0</td>\n",
       "      <td>0.000000</td>\n",
       "      <td>0.714286</td>\n",
       "      <td>1.0</td>\n",
       "      <td>NaN</td>\n",
       "      <td>0.0</td>\n",
       "    </tr>\n",
       "  </tbody>\n",
       "</table>\n",
       "<p>5 rows × 32 columns</p>\n",
       "</div>"
      ],
      "text/plain": [
       "      clientid_cr  conversiontime_cr  adslotdimid_cr   algo_cr  clickbid_cr  \\\n",
       "1025     0.948305                0.0        0.450991  0.001423     0.089820   \n",
       "1026     0.873346                0.0        0.984079  0.000731     0.104553   \n",
       "1027     0.873346                0.0        0.984079  0.000654     0.104553   \n",
       "1028     0.345516                0.0        0.978965  0.000769     0.089820   \n",
       "1029     0.345516                0.0        0.978965  0.000769     0.089820   \n",
       "\n",
       "      itemcolumbiaid_cr  itemid_cr   position_cr  pubclientid_cr  siteId_cr  \\\n",
       "1025           0.960550   0.960560  3.677799e-09        0.031248   0.000000   \n",
       "1026           0.944648   0.766087  1.225933e-09        1.000000   0.998178   \n",
       "1027           0.944360   0.766087  1.225933e-09        1.000000   0.998178   \n",
       "1028           0.997236   0.982921  1.225933e-09        0.000000   1.000000   \n",
       "1029           0.997236   0.982921  1.225933e-09        0.000000   1.000000   \n",
       "\n",
       "      ...  conversionDurationInMillis_cr  impressionTimeInMillis_cr  \\\n",
       "1025  ...                   1.464801e-04                        1.0   \n",
       "1026  ...                   8.328189e-07                        1.0   \n",
       "1027  ...                   2.188432e-06                        1.0   \n",
       "1028  ...                   2.638583e-05                        1.0   \n",
       "1029  ...                   2.127261e-05                        1.0   \n",
       "\n",
       "      clickTimeInMillis_cr  osVerDimId_cr  uuidSource_cr  geoGrpDimId_cr  \\\n",
       "1025                   1.0       0.000000            0.0        0.166667   \n",
       "1026                   1.0       0.551710            0.0        0.000000   \n",
       "1027                   1.0       0.551710            0.0        0.000000   \n",
       "1028                   1.0       0.998301            0.0        0.000000   \n",
       "1029                   1.0       0.998301            0.0        0.000000   \n",
       "\n",
       "      stateGrpDimId_cr  cityGrpDimId_cr  conversion_fraud  Type  \n",
       "1025          0.428571              0.4               NaN   0.0  \n",
       "1026          0.000000              0.2               NaN   0.0  \n",
       "1027          0.000000              0.2               NaN   0.0  \n",
       "1028          0.714286              1.0               NaN   0.0  \n",
       "1029          0.714286              1.0               NaN   0.0  \n",
       "\n",
       "[5 rows x 32 columns]"
      ]
     },
     "execution_count": 125,
     "metadata": {},
     "output_type": "execute_result"
    }
   ],
   "source": [
    "Test_Modified.head()"
   ]
  },
  {
   "cell_type": "code",
   "execution_count": 126,
   "id": "a027ea22-9262-43b1-95ec-d0466c2430b0",
   "metadata": {},
   "outputs": [],
   "source": [
    "# predict the converstion fraud for test data set and store it\n",
    "result= GBC.predict(Test_Modified.drop(['conversion_fraud'],axis=1))"
   ]
  },
  {
   "cell_type": "code",
   "execution_count": 127,
   "id": "424d074c-81da-4ea0-b55a-c432ced7c888",
   "metadata": {},
   "outputs": [],
   "source": [
    "# Convert to pandas DataFrame\n",
    "# result=pd.DataFrame(result,columns={'conversion_fraud'})\n",
    "result = pd.DataFrame(result, columns=['conversion_fraud'])"
   ]
  },
  {
   "cell_type": "code",
   "execution_count": 128,
   "id": "a07f5809-dc30-49b7-8bff-8b1fcc34b0ce",
   "metadata": {},
   "outputs": [],
   "source": [
    "result['conversion_fraud'].replace((1,0),(True,False),inplace=True)"
   ]
  },
  {
   "cell_type": "code",
   "execution_count": 129,
   "id": "f7304c7a",
   "metadata": {},
   "outputs": [],
   "source": [
    "Test_Modified = pd.merge(Test_Data, Click_log[[\"imprId\", \"clickIp\"]], left_on=\"imprid_cr\", right_on=\"imprId\", how=\"left\")\n",
    "Test_Modified['clickIp'] = Test_Modified['clickIp'].astype(str)\n",
    "result.set_index(Test_Modified['clickIp'], inplace=True)"
   ]
  },
  {
   "attachments": {},
   "cell_type": "markdown",
   "id": "4ffd1153-8428-45a3-b66a-35fb09d70e08",
   "metadata": {},
   "source": [
    "### **Store the Result**"
   ]
  },
  {
   "cell_type": "code",
   "execution_count": 131,
   "id": "93f89b94-ce58-47a5-9775-edad6e24848c",
   "metadata": {},
   "outputs": [],
   "source": [
    "# Store the Final result\n",
    "result.to_csv(r\"C:/Users/aarus/Downloads/archive/Result.csv\")"
   ]
  },
  {
   "cell_type": "code",
   "execution_count": 132,
   "id": "2b478d52",
   "metadata": {},
   "outputs": [],
   "source": [
    "result[\"conversion_fraud\"] = result[\"conversion_fraud\"].astype(int)\n",
    "num_conversions =  (result[\"conversion_fraud\"] == 0).sum()"
   ]
  },
  {
   "attachments": {},
   "cell_type": "markdown",
   "id": "df91db98",
   "metadata": {},
   "source": [
    "Results can be see in the file result.csv"
   ]
  }
 ],
 "metadata": {
  "kernelspec": {
   "display_name": "Python 3",
   "language": "python",
   "name": "python3"
  },
  "language_info": {
   "codemirror_mode": {
    "name": "ipython",
    "version": 3
   },
   "file_extension": ".py",
   "mimetype": "text/x-python",
   "name": "python",
   "nbconvert_exporter": "python",
   "pygments_lexer": "ipython3",
   "version": "3.9.6"
  }
 },
 "nbformat": 4,
 "nbformat_minor": 5
}
